{
 "cells": [
  {
   "cell_type": "markdown",
   "metadata": {
    "colab_type": "text",
    "id": "view-in-github"
   },
   "source": [
    "<a href=\"https://colab.research.google.com/github/aiy-wish/Notebooks/blob/main/COSC%20274/HW1_cosc74_274__Winter2022.ipynb\" target=\"_parent\"><img src=\"https://colab.research.google.com/assets/colab-badge.svg\" alt=\"Open In Colab\"/></a>"
   ]
  },
  {
   "cell_type": "markdown",
   "metadata": {
    "id": "77dmLm51_r4t"
   },
   "source": [
    "# HW1  Try out gradient descent"
   ]
  },
  {
   "cell_type": "markdown",
   "metadata": {
    "id": "gHo9H-fb_r4z"
   },
   "source": [
    "## Due Thursday Feb 3rd, 2022 at 11:59PM"
   ]
  },
  {
   "cell_type": "markdown",
   "metadata": {
    "id": "Xhrbs5Do_r40"
   },
   "source": [
    "You should submit this jupyter notebook with your solutions. The solutions should include the code and also the output of all the cells.\n",
    "\n",
    "Note that for the problmes that require a cost function as input you should always use the most recent cost function that you have implemented (unless specified otherwise)."
   ]
  },
  {
   "cell_type": "markdown",
   "metadata": {
    "id": "NChyfX_8_r41"
   },
   "source": [
    "1) [5 points] Calculate the derivative of following cost function and write it down:\n",
    "\n",
    "$g(w) = \\frac{1}{50}\\left(w^4 + w^2 + 10w - 50 \\right)$"
   ]
  },
  {
   "cell_type": "markdown",
   "metadata": {
    "id": "w4GaY9Nw_r42"
   },
   "source": [
    "$\\frac{\\partial}{\\partial w}g(w) = \\frac{w(2w^2+1)}{25}+\\frac{1}{5}$"
   ]
  },
  {
   "cell_type": "markdown",
   "metadata": {
    "id": "1SbJqYrG_r43"
   },
   "source": [
    "2) [25 points] Implement the gradient descent function as discussed in class using the gradient derived in the last problem. The function should return the cost history for each step. Use the code template below:\n"
   ]
  },
  {
   "cell_type": "code",
   "execution_count": 117,
   "metadata": {
    "id": "6GJJaPf__r44"
   },
   "outputs": [],
   "source": [
    "#gradient descent function\n",
    "#inputs: alpha (learning rate parameter), max_its (maximum number of iterations), w0 (initialization)\n",
    "\n",
    "def cost_function(w):\n",
    "  return ((1/50)*((w**4)+(w**2)+(10*w)-50))\n",
    "\n",
    "def partial_cost_function(w):\n",
    "    return (w*(((2*w*w)+1)/25) + (1/5))\n",
    "\n",
    "def gradient_descent(alpha,max_its,w0):\n",
    "    ##Your code here\n",
    "    wk_1 = w0\n",
    "    cost_history = [cost_function(w0)]\n",
    "    for k in range(1,max_its):\n",
    "        gradient = partial_cost_function(wk_1)\n",
    "        wk = wk_1 - (alpha*gradient)\n",
    "        cost_history.append(cost_function(wk))\n",
    "        wk_1 = wk\n",
    "    \n",
    "    return cost_history\n",
    "\n",
    "\n",
    "#returnable = gradient_descent(1,1000,2)\n",
    "#print(returnable)"
   ]
  },
  {
   "cell_type": "markdown",
   "metadata": {
    "id": "GtC37E0m_r47"
   },
   "source": [
    "3) [10 points] Run the gradient_descent function you implemented three times, with the following parameters. Generate a single plot showing the cost as a function of step number for all three runs (combine all three runs into a single plot). If you are not familiar with plotting in python, here is the docs for matplotlib:(https://matplotlib.org/3.2.1/api/_as_gen/matplotlib.pyplot.plot.html#matplotlib.pyplot.plot). \n",
    "\n",
    "\n",
    "$w^0$ = 2.0\n",
    "max_its = 1000\n",
    "\n",
    "# first run\n",
    "alpha = 1\n",
    "# second run\n",
    "alpha = 0.1\n",
    "# third run\n",
    "alpha = 0.01\n"
   ]
  },
  {
   "cell_type": "code",
   "execution_count": 4,
   "metadata": {
    "colab": {
     "base_uri": "https://localhost:8080/",
     "height": 279
    },
    "id": "IOVsnscg_r48",
    "outputId": "a247ef9c-b216-4f33-b6b8-343fb4175c13",
    "scrolled": true
   },
   "outputs": [
    {
     "ename": "TypeError",
     "evalue": "gradient_descent() missing 1 required positional argument: 'w0'",
     "output_type": "error",
     "traceback": [
      "\u001b[0;31m---------------------------------------------------------------------------\u001b[0m",
      "\u001b[0;31mTypeError\u001b[0m                                 Traceback (most recent call last)",
      "\u001b[0;32m/var/folders/ps/xtwg2fd53_z19lmq_lr0796w0000gn/T/ipykernel_66333/2912314451.py\u001b[0m in \u001b[0;36m<module>\u001b[0;34m\u001b[0m\n\u001b[1;32m     20\u001b[0m \u001b[0;31m# When alpha is 1\u001b[0m\u001b[0;34m\u001b[0m\u001b[0;34m\u001b[0m\u001b[0m\n\u001b[1;32m     21\u001b[0m \u001b[0malpha\u001b[0m \u001b[0;34m=\u001b[0m \u001b[0;36m1\u001b[0m\u001b[0;34m\u001b[0m\u001b[0;34m\u001b[0m\u001b[0m\n\u001b[0;32m---> 22\u001b[0;31m \u001b[0mgd_points\u001b[0m \u001b[0;34m=\u001b[0m \u001b[0mgradient_descent\u001b[0m\u001b[0;34m(\u001b[0m\u001b[0malpha\u001b[0m\u001b[0;34m,\u001b[0m\u001b[0mmax_its\u001b[0m\u001b[0;34m,\u001b[0m\u001b[0mw0\u001b[0m\u001b[0;34m)\u001b[0m\u001b[0;34m\u001b[0m\u001b[0;34m\u001b[0m\u001b[0m\n\u001b[0m\u001b[1;32m     23\u001b[0m \u001b[0mplot_graph\u001b[0m\u001b[0;34m(\u001b[0m\u001b[0mgd_points\u001b[0m\u001b[0;34m,\u001b[0m\u001b[0malpha\u001b[0m\u001b[0;34m,\u001b[0m\u001b[0mmax_its\u001b[0m\u001b[0;34m,\u001b[0m\u001b[0mw0\u001b[0m\u001b[0;34m)\u001b[0m\u001b[0;34m\u001b[0m\u001b[0;34m\u001b[0m\u001b[0m\n\u001b[1;32m     24\u001b[0m \u001b[0;34m\u001b[0m\u001b[0m\n",
      "\u001b[0;31mTypeError\u001b[0m: gradient_descent() missing 1 required positional argument: 'w0'"
     ]
    }
   ],
   "source": [
    "import matplotlib.pyplot as plt\n",
    "%matplotlib inline \n",
    "#To keep your plots embedded\n",
    "\n",
    "##Your code here\n",
    "def plot_graph(gd_points,alpha,max_its,w0):\n",
    "    x = [i for i in range(max_its)]\n",
    "    y = gd_points\n",
    "    plt.plot(x, y, label= alpha)\n",
    "    plt.legend()\n",
    "    plt.xlabel(\"Step k\")\n",
    "    plt.ylabel(\"Cost History\")\n",
    "\n",
    "\n",
    "    \n",
    "w0 = 2.0\n",
    "max_its = 1000\n",
    "alpha_list = [1,0.1,0.01]\n",
    "\n",
    "# When alpha is 1\n",
    "alpha = 1\n",
    "gd_points = gradient_descent(alpha,max_its,w0)\n",
    "plot_graph(gd_points,alpha,max_its,w0)\n",
    "\n",
    "# When alpha is 0.1\n",
    "alpha = 0.1\n",
    "gd_points = gradient_descent(alpha,max_its,w0)\n",
    "plot_graph(gd_points,alpha,max_its,w0)\n",
    "\n",
    "# When alpha is 0.01\n",
    "alpha = 0.01\n",
    "gd_points = gradient_descent(alpha,max_its,w0)\n",
    "plot_graph(gd_points,alpha,max_its,w0)"
   ]
  },
  {
   "cell_type": "markdown",
   "metadata": {
    "id": "HM_oFn0o_r4_"
   },
   "source": [
    "For the next few problems we will be comparing fixed and diminishing learning rates"
   ]
  },
  {
   "cell_type": "markdown",
   "metadata": {
    "id": "Kx-7BDDL_r5A"
   },
   "source": [
    "Take the following cost function:\n",
    "\\begin{equation}\n",
    "g(w) = \\left \\vert w \\right \\vert\n",
    "\\end{equation}"
   ]
  },
  {
   "cell_type": "markdown",
   "metadata": {
    "id": "EhUP7I8T_r5A"
   },
   "source": [
    "4) [5 points] Is this function convex? If no, why not? If yes, where is its global minimum?\n",
    "\n",
    "Yes, because the line segment between any two points of this cost function lies on the graph. There exists only one global minimum i.e. (0,0)."
   ]
  },
  {
   "cell_type": "markdown",
   "metadata": {
    "id": "7VBPTxa-_r5B"
   },
   "source": [
    "5) [5 points] What is the derivative of the cost function? \n",
    "\n",
    "$\\frac{\\partial}{\\partial w}g(w) = \\frac{w}{|w|}$"
   ]
  },
  {
   "cell_type": "markdown",
   "metadata": {
    "id": "YNfziuPW_r5C"
   },
   "source": [
    "6) [20 points] Rewrite the gradient descent function from question 2 such that it takes the cost funciton g as input and uses the autograd library to calculate the gradient. The function should return the weight and cost history for each step. Use the code template below.\n",
    "\n",
    "autograd is a python package for automatic calculation of the gradient. Here is a tutorial on it: (http://www.cs.toronto.edu/~rgrosse/courses/csc321_2017/tutorials/tut4.pdf\n",
    "\n",
    "Note that in Python you can pass functions around like any other variables. That is why you can pass the cost function g to the gradient_descent function. \n",
    "\n",
    "You should be able to install it by running \"pip install autograd\" in a cell in your Jupyter notebook."
   ]
  },
  {
   "cell_type": "code",
   "execution_count": 5,
   "metadata": {
    "id": "mos8U7Ed_r5C"
   },
   "outputs": [],
   "source": [
    "from autograd import grad \n",
    "\n",
    "def g(w):\n",
    "    return abs(w)\n",
    "\n",
    "#gradient descent function\n",
    "#inputs: g (cost function), alpha (learning rate parameter), max_its (maximum number of iterations), w (initialization)\n",
    "def gradient_descent(g,alpha,max_its,w0):\n",
    "    gradient = grad(g)   ## This is how you use the autograd library to find the gradient of a function  \n",
    "    ##Your code here\n",
    "    weight_history = [w0]\n",
    "    cost_history = [g(w0)]\n",
    "    wk_1 = w0\n",
    "\n",
    "    for k in range(1,max_its):\n",
    "    \n",
    "        cost = gradient(wk_1)\n",
    "        wk = wk_1 - (alpha*cost)\n",
    "        \n",
    "        weight_history.append(wk)\n",
    "        cost_history.append(g(wk))\n",
    "        wk_1 = wk\n",
    "        \n",
    "    return weight_history,cost_history"
   ]
  },
  {
   "cell_type": "markdown",
   "metadata": {
    "id": "P3CfDqmw_r5D"
   },
   "source": [
    "7) [10 points] Make a run of max_its=20 steps of gradient descent with initialization at the point $w^0 = 1.75$, and a fixed learning rate of $\\alpha = 0.5$. Using the cost and weight history, plot the cost as a function of the weight for each step (cost on y-axis, weight on x-axis). Recall that the terms weight and parameter used interchangeably and both refer to w."
   ]
  },
  {
   "cell_type": "code",
   "execution_count": 6,
   "metadata": {
    "colab": {
     "base_uri": "https://localhost:8080/",
     "height": 335
    },
    "id": "RUSDWF2-_r5E",
    "outputId": "94b587e9-d148-4412-d007-2cc23b8efdde"
   },
   "outputs": [
    {
     "name": "stdout",
     "output_type": "stream",
     "text": [
      "([1.75, 1.25, 0.75, 0.25, -0.25, 0.25, -0.25, 0.25, -0.25, 0.25, -0.25, 0.25, -0.25, 0.25, -0.25, 0.25, -0.25, 0.25, -0.25, 0.25], [1.75, 1.25, 0.75, 0.25, 0.25, 0.25, 0.25, 0.25, 0.25, 0.25, 0.25, 0.25, 0.25, 0.25, 0.25, 0.25, 0.25, 0.25, 0.25, 0.25])\n"
     ]
    },
    {
     "data": {
      "text/plain": [
       "Text(0, 0.5, 'Cost History')"
      ]
     },
     "execution_count": 6,
     "metadata": {},
     "output_type": "execute_result"
    },
    {
     "data": {
      "image/png": "[encoded data removed]",
      "text/plain": [
       "<Figure size 432x288 with 1 Axes>"
      ]
     },
     "metadata": {
      "needs_background": "light"
     },
     "output_type": "display_data"
    }
   ],
   "source": [
    "alpha = 0.5\n",
    "max_its = 20\n",
    "w0 = 1.75\n",
    "weight_history,cost_history = gradient_descent(g,alpha,max_its,w0)\n",
    "print(gradient_descent(g,alpha,max_its,w0))\n",
    "plt.plot(weight_history, cost_history)\n",
    "plt.xlabel(\"Weight History\")\n",
    "plt.ylabel(\"Cost History\")\n"
   ]
  },
  {
   "cell_type": "markdown",
   "metadata": {
    "id": "TwDgDQfv_r5E"
   },
   "source": [
    "8) [15 points] Make a run of max_its=20 steps of gradient descent with initialization at the point $w^0 = 1.75$, using the diminishing rule $\\alpha = \\frac{1}{k}$ (for this you have to modify the gradient_descent function slightly. Use the code template below. Using the cost and wiehgt history, plot the cost as a function of the weight for each step (cost on y-axis, weight on x-axis)"
   ]
  },
  {
   "cell_type": "code",
   "execution_count": 7,
   "metadata": {
    "colab": {
     "base_uri": "https://localhost:8080/",
     "height": 296
    },
    "id": "besVc6WF_r5F",
    "outputId": "931cceff-4d94-425f-b369-840234fc33e6"
   },
   "outputs": [
    {
     "data": {
      "text/plain": [
       "Text(0, 0.5, 'Cost History')"
      ]
     },
     "execution_count": 7,
     "metadata": {},
     "output_type": "execute_result"
    },
    {
     "data": {
      "image/png": "[encoded data removed]",
      "text/plain": [
       "<Figure size 432x288 with 1 Axes>"
      ]
     },
     "metadata": {
      "needs_background": "light"
     },
     "output_type": "display_data"
    }
   ],
   "source": [
    "from autograd import grad \n",
    "\n",
    "#gradient descent function\n",
    "#inputs: g (cost function), alpha (learning rate parameter), max_its (maximum number of iterations), w (initialization)\n",
    "def gradient_descent(g,alpha,max_its,w0):\n",
    "    gradient = grad(g)   ## This is how you use the autograd library to find the gradient of a function \n",
    "    ##Your code here\n",
    "    weight_history = [w0]\n",
    "    cost_history = [g(w0)]\n",
    "    wk_1 = w0\n",
    "\n",
    "    if alpha=='diminishing':\n",
    "      for k in range(1,max_its):\n",
    "        alpha = 1/k\n",
    "        grad_weight = gradient(wk_1)\n",
    "        wk = wk_1 - (alpha*grad_weight)\n",
    "        \n",
    "        weight_history.append(wk)\n",
    "        cost_history.append(g(wk))\n",
    "        wk_1 = wk\n",
    "    else:\n",
    "        pass\n",
    "    return weight_history,cost_history\n",
    "\n",
    "max_its = 1000\n",
    "w0 = 1.75\n",
    "weight_history,cost_history = gradient_descent(g,'diminishing',max_its,w0)\n",
    "\n",
    "plt.plot(weight_history, cost_history)\n",
    "plt.xlabel(\"Weight History\")\n",
    "plt.ylabel(\"Cost History\")\n"
   ]
  },
  {
   "cell_type": "markdown",
   "metadata": {
    "id": "ud27zK6a_r5F"
   },
   "source": [
    "9) [10 points]  Generate a single plot showing the cost as a function of step number for both runs (combine all  runs into a single plot). Which approach works better? Why ?"
   ]
  },
  {
   "cell_type": "markdown",
   "metadata": {
    "id": "3qDS0ANs_r5G"
   },
   "source": [
    "We will now look at the oscilating behavior of gradient descent. \n",
    "\n",
    "Take the following cost function:\n",
    "$g(w) = w_0^2 + w_1^2 + 2\\sin(1.5 (w_0 + w_1)) +2$\n",
    "\n",
    "Note that this cost function has two parameters."
   ]
  },
  {
   "cell_type": "markdown",
   "metadata": {
    "id": "G0jatpJs_r5G"
   },
   "source": [
    "10) [5 points] Make sure your gradient descent function from problem 6 can handle cost functions with more than one parameter. You may need to rewrite it if you were not careful. Use the code template below (if your function from problem 6 is good, you can just copy and paste it here)"
   ]
  },
  {
   "cell_type": "code",
   "execution_count": 122,
   "metadata": {
    "id": "0RpVetV3_r5G"
   },
   "outputs": [],
   "source": [
    "from autograd import grad \n",
    "import numpy as np\n",
    "\n",
    "#gradient descent function\n",
    "#inputs: g (cost function), alpha (learning rate parameter), max_its (maximum number of iterations), w (initialization)\n",
    "def gradient_descent(g,alpha,max_its,w0):\n",
    "    gradient = grad(g)   ## This is how you use the autograd library to find the gradient of a function  \n",
    "    ##Your code here\n",
    "    weight_history = [w0]\n",
    "    cost_history = [g(w0)]\n",
    "    wk_1 = w0\n",
    "\n",
    "    for k in range(1,max_its):\n",
    "    \n",
    "        cost = gradient(wk_1)\n",
    "        wk = wk_1 - (alpha*np.asarray(cost))\n",
    "        \n",
    "        weight_history.append(wk)\n",
    "        cost_history.append(g(wk))\n",
    "        wk_1 = wk\n",
    "        \n",
    "    return weight_history,cost_history"
   ]
  },
  {
   "cell_type": "markdown",
   "metadata": {
    "id": "h3km8hv0_r5H"
   },
   "source": [
    "11) [10 points] Run the gradient_descent function with the cost function above three times with the following parameters. Generate a single plot showing the cost as a function of step number for all three runs (combine all three runs into a single plot). Use the code template below. Which alpha leads to an oscillating behavior?\n",
    "\n",
    "$w^0$ = [3.0,3.0]\n",
    "max_its = 10\n",
    "\n",
    "# first run\n",
    "alpha = 0.01\n",
    "# second run\n",
    "alpha = 0.1\n",
    "# third run\n",
    "alpha = 1\n",
    "\n"
   ]
  },
  {
   "cell_type": "code",
   "execution_count": 123,
   "metadata": {
    "colab": {
     "base_uri": "https://localhost:8080/",
     "height": 279
    },
    "id": "PF9_NLOC_r5I",
    "outputId": "11230c06-43b3-4468-c01b-00c16ea5f324"
   },
   "outputs": [
    {
     "data": {
      "image/png": "[encoded data removed]",
      "text/plain": [
       "<Figure size 432x288 with 1 Axes>"
      ]
     },
     "metadata": {
      "needs_background": "light"
     },
     "output_type": "display_data"
    }
   ],
   "source": [
    "import autograd.numpy as np\n",
    "#Your code here\n",
    "\n",
    "def g(w):\n",
    "  return ((w[0]**2)+(w[1]**2)+(2*np.sin(1.5*(w[0]+w[1])))+2)\n",
    "\n",
    "##Your code here\n",
    "def plot_graph(cost_history,alpha,max_its,w0):\n",
    "    x = [i for i in range(max_its)]\n",
    "    y = cost_history\n",
    "    plt.plot(x, y, label= alpha)\n",
    "    plt.legend()\n",
    "    plt.xlabel(\"Step k\")\n",
    "    plt.ylabel(\"Cost History\")\n",
    "\n",
    "\n",
    "    \n",
    "w0 = [3.0,3.0]\n",
    "max_its = 10\n",
    "alpha = [0.01,0.1,1]\n",
    "for alpha in alpha_list:\n",
    "  weight_history,cost_history = gradient_descent(g,alpha,max_its,w0)\n",
    "  plot_graph(cost_history,alpha,max_its,w0)\n",
    "\n",
    "\n",
    "\n",
    "#alpha = [0.01,0.1,1]\n",
    "#w = [3.0,3.0]\n",
    "#gradient = grad(g)\n",
    "#print(gradient(w))"
   ]
  },
  {
   "cell_type": "markdown",
   "metadata": {
    "id": "EuKhonU7_r5I"
   },
   "source": [
    "12) [15 points] This problem is about learning to tune fixed step length for gradient descent. Here, you are given a cost function:\n",
    "$g(w) = 2w_0^2 + w_1^2 +4w_2^2$ \n",
    "\n",
    "Assume your $w^0$= [5,5,5] and your max_iter = 100\n",
    "\n",
    "Use your latest gradient descent function with a fixed learning rate. Play around with at least 5 different values of alpha (using your intuition). Generate a single plot of the cost as a function of the number of iterations. Which value of alpha seems to converge the fastest?\n",
    "\n",
    "Not that your grade will not depend on how well you do, as long as you try at least 5 different values for alpha and plot them."
   ]
  },
  {
   "cell_type": "code",
   "execution_count": 124,
   "metadata": {
    "colab": {
     "base_uri": "https://localhost:8080/",
     "height": 279
    },
    "id": "WtubeUZG_r5I",
    "outputId": "8336affb-1a17-4508-c2b4-e8ee76006843"
   },
   "outputs": [
    {
     "data": {
      "image/png": "[encoded data removed]",
      "text/plain": [
       "<Figure size 432x288 with 1 Axes>"
      ]
     },
     "metadata": {
      "needs_background": "light"
     },
     "output_type": "display_data"
    }
   ],
   "source": [
    "import numpy as np\n",
    "\n",
    "def g(w):\n",
    "  return (2*(w[0]**2) + (w[1]**2) + 4*(w[2]**2))\n",
    "\n",
    "w0 = np.array([5.0,5.0,5.0])\n",
    "max_its = 100\n",
    "alpha_list = [0.0001,0.001,0.01,0.1,0.25]\n",
    "for alpha in alpha_list:\n",
    "  weight_history,cost_history = gradient_descent(g,alpha,max_its,w0)\n",
    "  plot_graph(cost_history,alpha,max_its,w0)\n"
   ]
  }
 ],
 "metadata": {
  "colab": {
   "include_colab_link": true,
   "name": "HW1_cosc74_274__Winter2022.ipynb",
   "provenance": []
  },
  "kernelspec": {
   "display_name": "Python 3 (ipykernel)",
   "language": "python",
   "name": "python3"
  },
  "language_info": {
   "codemirror_mode": {
    "name": "ipython",
    "version": 3
   },
   "file_extension": ".py",
   "mimetype": "text/x-python",
   "name": "python",
   "nbconvert_exporter": "python",
   "pygments_lexer": "ipython3",
   "version": "3.9.7"
  }
 },
 "nbformat": 4,
 "nbformat_minor": 1
}
