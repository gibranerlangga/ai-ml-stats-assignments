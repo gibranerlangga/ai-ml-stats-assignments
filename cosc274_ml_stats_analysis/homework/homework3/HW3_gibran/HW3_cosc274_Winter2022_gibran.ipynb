{
 "cells": [
  {
   "cell_type": "markdown",
   "metadata": {},
   "source": [
    "Please run the cell below to import libraries needed for this HW. Please use the autograd numpy, otherwise you will have issues. Please remember to always use the np library for mathematical functions (e.g., np.log, np.exp, np.sum, etc)"
   ]
  },
  {
   "cell_type": "code",
   "execution_count": 34,
   "metadata": {},
   "outputs": [],
   "source": [
    "import autograd.numpy as np\n",
    "from autograd import grad \n",
    "import matplotlib.pyplot as plt\n",
    "%matplotlib inline"
   ]
  },
  {
   "cell_type": "markdown",
   "metadata": {},
   "source": [
    "Q1) [5 points] Implement the sigmoiod funcation discussed in class. The function takes a value, x, as input and returns the sigmoid function applied to the value."
   ]
  },
  {
   "cell_type": "code",
   "execution_count": 35,
   "metadata": {},
   "outputs": [],
   "source": [
    "def sigmoid(x):\n",
    "    #Your code here\n",
    "    y = 1 / (1 + np.exp(-x))\n",
    "    return y"
   ]
  },
  {
   "cell_type": "markdown",
   "metadata": {},
   "source": [
    "Q2) [20 points] Implement the logistic regression model and the cross entropy cost discussed in class. Note that the logistic regression model relies on the sigmoid function (which you have implemented above) and the linear  model (which you have implemented in HW2). You can use the linear model from HW2 for this problem. Similar to the least-squares cost from HW2, the cross entropy cost takes in as input an array of weights, w, an array of x's and an array of ys and return a float indicating the total cost."
   ]
  },
  {
   "cell_type": "code",
   "execution_count": 36,
   "metadata": {},
   "outputs": [],
   "source": [
    "#Your linear model from HW2\n",
    "def model(x, w):\n",
    "    #your code here\n",
    "    y_predicted = w[0] + np.dot(x.T, w[1:]).T\n",
    "    return y_predicted\n",
    "\n",
    "#The logistic regression cross entropy cost\n",
    "def cross_entropy(w, x, y):\n",
    "    a = sigmoid(model(x,w))\n",
    "    # get total cost on label 0\n",
    "    ind = np.argwhere(y == 0)[:,1]\n",
    "    cost = -np.sum(np.log(1 - a[ind]))\n",
    "    # get total cost on label 1\n",
    "    ind = np.argwhere(y==1)[:,1]\n",
    "    cost -= np.sum(np.log(a[ind]))\n",
    "    \n",
    "    return cost"
   ]
  },
  {
   "cell_type": "markdown",
   "metadata": {},
   "source": [
    "Q3) [2 points] Run the code below to read a data file. Plot a scatter plot of x vs y."
   ]
  },
  {
   "cell_type": "code",
   "execution_count": 40,
   "metadata": {
    "scrolled": true
   },
   "outputs": [
    {
     "data": {
      "text/plain": [
       "<matplotlib.collections.PathCollection at 0x7fdb09370e50>"
      ]
     },
     "execution_count": 40,
     "metadata": {},
     "output_type": "execute_result"
    },
    {
     "data": {
      "image/png": "[encoded data removed]",
      "text/plain": [
       "<Figure size 432x288 with 1 Axes>"
      ]
     },
     "metadata": {
      "needs_background": "light"
     },
     "output_type": "display_data"
    }
   ],
   "source": [
    "csvname = '2d_classification_data_v1_entropy.csv'\n",
    "data = np.loadtxt(csvname,delimiter = ',')\n",
    "x = data[:-1,:]\n",
    "y = data[-1:,:]\n",
    "\n",
    "plt.scatter(x, y)"
   ]
  },
  {
   "cell_type": "code",
   "execution_count": 42,
   "metadata": {},
   "outputs": [
    {
     "data": {
      "text/plain": [
       "array([[-0.12945952],\n",
       "       [ 0.17126776],\n",
       "       [ 0.18900687],\n",
       "       [ 0.62817746],\n",
       "       [ 0.98698383],\n",
       "       [ 1.1       ],\n",
       "       [ 1.4       ],\n",
       "       [ 4.        ],\n",
       "       [ 4.3       ],\n",
       "       [ 4.5       ],\n",
       "       [ 4.7       ]])"
      ]
     },
     "execution_count": 42,
     "metadata": {},
     "output_type": "execute_result"
    }
   ],
   "source": [
    "x.T"
   ]
  },
  {
   "cell_type": "markdown",
   "metadata": {},
   "source": [
    "Q4) [10 points] Move the gradient descent function from HW2. Run the function using the cross_entropy cost and the x and y from above. The parameters should be set to: max_its=2000,w=[3.0,3.0 ], and alpha=1. Save the cost and weight history returned by the gradient descent function. Plot the cost history.\n"
   ]
  },
  {
   "cell_type": "code",
   "execution_count": 38,
   "metadata": {},
   "outputs": [],
   "source": [
    "##gradient descent from HW2\n",
    "def gradient_descent(g, alpha, max_its, w, x, y):\n",
    "    #Your code here\n",
    "    wk = w\n",
    "    gradient = grad(g)  \n",
    "    cost_history = []\n",
    "    weight_history = []\n",
    "\n",
    "    for iter in range(1, max_its+1):\n",
    "        cost = g(wk, x, y)\n",
    "        cost_history.append(cost)\n",
    "        weight_history.append(wk)\n",
    "        wk = wk - alpha * gradient(wk, x, y)\n",
    "    \n",
    "    return weight_history, cost_history"
   ]
  },
  {
   "cell_type": "code",
   "execution_count": 39,
   "metadata": {
    "scrolled": false
   },
   "outputs": [
    {
     "data": {
      "text/plain": [
       "[<matplotlib.lines.Line2D at 0x7fdb08d7b310>]"
      ]
     },
     "execution_count": 39,
     "metadata": {},
     "output_type": "execute_result"
    },
    {
     "data": {
      "image/png": "[encoded data removed]",
      "text/plain": [
       "<Figure size 432x288 with 1 Axes>"
      ]
     },
     "metadata": {
      "needs_background": "light"
     },
     "output_type": "display_data"
    }
   ],
   "source": [
    "##Call the gradient_descent function here\n",
    "weight_history, cost_history = gradient_descent(cross_entropy, \n",
    "                                                alpha=1, \n",
    "                                                max_its=2000, \n",
    "                                                w=np.array([3.0, 3.0]), \n",
    "                                                x=x, \n",
    "                                                y=y)\n",
    "\n",
    "##Plot the cost history here\n",
    "plt.plot(cost_history)"
   ]
  },
  {
   "cell_type": "markdown",
   "metadata": {},
   "source": [
    "Q5) [10 points] Implement a logistic regression classifier that takes in the learned weights and x as input and returns the probability of the positive class (note that this is just the output of the sigmoid applied to the linear combination of the x and w)"
   ]
  },
  {
   "cell_type": "code",
   "execution_count": 7,
   "metadata": {},
   "outputs": [],
   "source": [
    "def logistic_regression(learned_w, x):\n",
    "    #your code here\n",
    "    positive_class_prob = sigmoid(model(x, learned_w))\n",
    "    return positive_class_prob"
   ]
  },
  {
   "cell_type": "markdown",
   "metadata": {},
   "source": [
    "Q6) [5 points] Use the learned weights from the last gradient descent run and the logistic regression function implemented above to plot the learned curve. You can use the linspace method (shown below) to generate a list of xs that you can use. You need to generate a y for each of the candidate xs using the logistic regression function and the learned weights. On the same figure, also plot the scatter plot from Q3. \n"
   ]
  },
  {
   "cell_type": "code",
   "execution_count": 8,
   "metadata": {},
   "outputs": [
    {
     "data": {
      "text/plain": [
       "<matplotlib.legend.Legend at 0x7f87e84ba8e0>"
      ]
     },
     "execution_count": 8,
     "metadata": {},
     "output_type": "execute_result"
    },
    {
     "data": {
      "image/png": "[encoded data removed]",
      "text/plain": [
       "<Figure size 432x288 with 1 Axes>"
      ]
     },
     "metadata": {
      "needs_background": "light"
     },
     "output_type": "display_data"
    }
   ],
   "source": [
    "s = np.linspace(np.min(x),np.max(x))\n",
    "\n",
    "learned_w = weight_history[-1] #taking last weight as the learned weight\n",
    "\n",
    "#Your code here\n",
    "logit = logistic_regression(learned_w, np.array([s])) \n",
    "\n",
    "plt.plot(s, logit, 'b-', label='logit')\n",
    "plt.scatter(x, y, label='actual', c='red')\n",
    "plt.legend()"
   ]
  },
  {
   "cell_type": "markdown",
   "metadata": {},
   "source": [
    "Q7) [5 points] Slightly modify the logistic regression model above so that it returns a 1 or 0 based on the specified threshold."
   ]
  },
  {
   "cell_type": "code",
   "execution_count": 9,
   "metadata": {},
   "outputs": [],
   "source": [
    "def logistic_regression_modified(learned_w, x, threshold):\n",
    "    #your code here\n",
    "    logit = logistic_regression(learned_w, x)\n",
    "    class_label = np.where(logit > threshold, 1, 0)\n",
    "    return class_label"
   ]
  },
  {
   "cell_type": "markdown",
   "metadata": {},
   "source": [
    "Q8) [15 points] Write a function (called evaluate) that takes in actual and predicted ys (for a binary classification problem) and return a confusion matrix and the accuracy. Use the modified logistic regression model and the evaluate function below to report the confusion matrix and accuracy for the x and y used for our training at a threshold of 0.5.  "
   ]
  },
  {
   "cell_type": "code",
   "execution_count": 10,
   "metadata": {},
   "outputs": [],
   "source": [
    "def evaluate(y_actual,y_pred):\n",
    "    ## Your code here\n",
    "    false_positive = np.where((y != y_pred) & (y==1))[1].size \n",
    "    false_negative = np.where((y != y_pred) & (y==0))[1].size\n",
    "    true_positive = np.where((y==y_pred) & (y==1))[1].size\n",
    "    true_negative = np.where((y==y_pred) & (y==0))[1].size\n",
    "    accuracy = (true_positive+true_negative) / (false_positive +\n",
    "                                                false_negative +\n",
    "                                                true_positive + \n",
    "                                                true_negative)\n",
    "    return false_positive, false_negative, true_positive, true_negative, accuracy"
   ]
  },
  {
   "cell_type": "code",
   "execution_count": 11,
   "metadata": {},
   "outputs": [],
   "source": [
    "fp, fn, tp, tn, accuracy = evaluate(y, logistic_regression_modified(learned_w, x, 0.5))"
   ]
  },
  {
   "cell_type": "code",
   "execution_count": 12,
   "metadata": {},
   "outputs": [
    {
     "name": "stdout",
     "output_type": "stream",
     "text": [
      "0 0 6 5 1.0\n"
     ]
    }
   ],
   "source": [
    "print(fp, fn, tp, tn, accuracy)"
   ]
  },
  {
   "cell_type": "markdown",
   "metadata": {},
   "source": [
    "Q9) [20 points] Implement the perceptron cost function from the class (the softmax version). Note that the perceptron cost also uses the linear model (the model function from question 2)."
   ]
  },
  {
   "cell_type": "code",
   "execution_count": 13,
   "metadata": {},
   "outputs": [],
   "source": [
    "def perceptron_cost(w, x, y):    \n",
    "    #Your code here\n",
    "    ideal_condition = -np.dot(y, sigmoid(model(x, w)))\n",
    "    cost = np.sum(np.log(1 + np.exp(ideal_condition))) / y.size\n",
    "    return cost"
   ]
  },
  {
   "cell_type": "markdown",
   "metadata": {},
   "source": [
    "Q10) [10 points] Run gradient descent function using the perceptron cost and the x and y from above and the parameters set to: max_its=2000,w=[1.0,1.0], and alpha=1.0. Save the cost and weight history returned by the gradient descent function. Plot the cost history. Which cost seems to do better on this dataset? Why do think that is?\n"
   ]
  },
  {
   "cell_type": "code",
   "execution_count": 14,
   "metadata": {},
   "outputs": [
    {
     "data": {
      "text/plain": [
       "<matplotlib.legend.Legend at 0x7f88080f8e50>"
      ]
     },
     "execution_count": 14,
     "metadata": {},
     "output_type": "execute_result"
    },
    {
     "data": {
      "image/png": "[encoded data removed]",
      "text/plain": [
       "<Figure size 432x288 with 1 Axes>"
      ]
     },
     "metadata": {
      "needs_background": "light"
     },
     "output_type": "display_data"
    }
   ],
   "source": [
    "##Call the gradient_descent function here\n",
    "# change 0 to -1 for perceptron\n",
    "y[y == 0] = -1\n",
    "\n",
    "weight_history_p, cost_history_p = gradient_descent(perceptron_cost, \n",
    "                                                    alpha=1, \n",
    "                                                    max_its=2000, \n",
    "                                                    w=np.array([1.0, 1.0]), \n",
    "                                                    x=x, \n",
    "                                                    y=y)\n",
    "\n",
    "##Plot the cost history here\n",
    "plt.plot(cost_history_p, label='perceptron cost')\n",
    "plt.legend()"
   ]
  },
  {
   "cell_type": "markdown",
   "metadata": {},
   "source": [
    "**Answer:**\n",
    "Perceptron cost function seems to converge faster than cross-entropy cost function. This is because perceptron determines the ideal linear decision boundary directly while cross-entropy learns the decision boundary using regression."
   ]
  },
  {
   "cell_type": "markdown",
   "metadata": {},
   "source": [
    "## The rest of these problems are for bonus points"
   ]
  },
  {
   "cell_type": "markdown",
   "metadata": {},
   "source": [
    "Q11) [2 points]  The file 'heart.csv' has 304 lines, each one corresponding to a data point. Each row (i.e., data point), has several columns. Read the data file. Note that the first line is the header describing each column."
   ]
  },
  {
   "cell_type": "code",
   "execution_count": 15,
   "metadata": {},
   "outputs": [
    {
     "data": {
      "text/html": [
       "<div>\n",
       "<style scoped>\n",
       "    .dataframe tbody tr th:only-of-type {\n",
       "        vertical-align: middle;\n",
       "    }\n",
       "\n",
       "    .dataframe tbody tr th {\n",
       "        vertical-align: top;\n",
       "    }\n",
       "\n",
       "    .dataframe thead th {\n",
       "        text-align: right;\n",
       "    }\n",
       "</style>\n",
       "<table border=\"1\" class=\"dataframe\">\n",
       "  <thead>\n",
       "    <tr style=\"text-align: right;\">\n",
       "      <th></th>\n",
       "      <th>age</th>\n",
       "      <th>sex</th>\n",
       "      <th>cp</th>\n",
       "      <th>trestbps</th>\n",
       "      <th>chol</th>\n",
       "      <th>fbs</th>\n",
       "      <th>restecg</th>\n",
       "      <th>thalach</th>\n",
       "      <th>exang</th>\n",
       "      <th>oldpeak</th>\n",
       "      <th>slope</th>\n",
       "      <th>ca</th>\n",
       "      <th>thal</th>\n",
       "      <th>target</th>\n",
       "    </tr>\n",
       "  </thead>\n",
       "  <tbody>\n",
       "    <tr>\n",
       "      <th>0</th>\n",
       "      <td>63</td>\n",
       "      <td>1</td>\n",
       "      <td>3</td>\n",
       "      <td>145</td>\n",
       "      <td>233</td>\n",
       "      <td>1</td>\n",
       "      <td>0</td>\n",
       "      <td>150</td>\n",
       "      <td>0</td>\n",
       "      <td>2.3</td>\n",
       "      <td>0</td>\n",
       "      <td>0</td>\n",
       "      <td>1</td>\n",
       "      <td>1</td>\n",
       "    </tr>\n",
       "    <tr>\n",
       "      <th>1</th>\n",
       "      <td>37</td>\n",
       "      <td>1</td>\n",
       "      <td>2</td>\n",
       "      <td>130</td>\n",
       "      <td>250</td>\n",
       "      <td>0</td>\n",
       "      <td>1</td>\n",
       "      <td>187</td>\n",
       "      <td>0</td>\n",
       "      <td>3.5</td>\n",
       "      <td>0</td>\n",
       "      <td>0</td>\n",
       "      <td>2</td>\n",
       "      <td>1</td>\n",
       "    </tr>\n",
       "    <tr>\n",
       "      <th>2</th>\n",
       "      <td>41</td>\n",
       "      <td>0</td>\n",
       "      <td>1</td>\n",
       "      <td>130</td>\n",
       "      <td>204</td>\n",
       "      <td>0</td>\n",
       "      <td>0</td>\n",
       "      <td>172</td>\n",
       "      <td>0</td>\n",
       "      <td>1.4</td>\n",
       "      <td>2</td>\n",
       "      <td>0</td>\n",
       "      <td>2</td>\n",
       "      <td>1</td>\n",
       "    </tr>\n",
       "    <tr>\n",
       "      <th>3</th>\n",
       "      <td>56</td>\n",
       "      <td>1</td>\n",
       "      <td>1</td>\n",
       "      <td>120</td>\n",
       "      <td>236</td>\n",
       "      <td>0</td>\n",
       "      <td>1</td>\n",
       "      <td>178</td>\n",
       "      <td>0</td>\n",
       "      <td>0.8</td>\n",
       "      <td>2</td>\n",
       "      <td>0</td>\n",
       "      <td>2</td>\n",
       "      <td>1</td>\n",
       "    </tr>\n",
       "    <tr>\n",
       "      <th>4</th>\n",
       "      <td>57</td>\n",
       "      <td>0</td>\n",
       "      <td>0</td>\n",
       "      <td>120</td>\n",
       "      <td>354</td>\n",
       "      <td>0</td>\n",
       "      <td>1</td>\n",
       "      <td>163</td>\n",
       "      <td>1</td>\n",
       "      <td>0.6</td>\n",
       "      <td>2</td>\n",
       "      <td>0</td>\n",
       "      <td>2</td>\n",
       "      <td>1</td>\n",
       "    </tr>\n",
       "  </tbody>\n",
       "</table>\n",
       "</div>"
      ],
      "text/plain": [
       "   age  sex  cp  trestbps  chol  fbs  restecg  thalach  exang  oldpeak  slope  \\\n",
       "0   63    1   3       145   233    1        0      150      0      2.3      0   \n",
       "1   37    1   2       130   250    0        1      187      0      3.5      0   \n",
       "2   41    0   1       130   204    0        0      172      0      1.4      2   \n",
       "3   56    1   1       120   236    0        1      178      0      0.8      2   \n",
       "4   57    0   0       120   354    0        1      163      1      0.6      2   \n",
       "\n",
       "   ca  thal  target  \n",
       "0   0     1       1  \n",
       "1   0     2       1  \n",
       "2   0     2       1  \n",
       "3   0     2       1  \n",
       "4   0     2       1  "
      ]
     },
     "execution_count": 15,
     "metadata": {},
     "output_type": "execute_result"
    }
   ],
   "source": [
    "##Your code here\n",
    "import pandas as pd\n",
    "\n",
    "df = pd.read_csv('heart.csv')\n",
    "df.head()"
   ]
  },
  {
   "cell_type": "markdown",
   "metadata": {},
   "source": [
    "Q12) [2 points] Use the data above to set y to be the \"target\" and X to be the remaining columns."
   ]
  },
  {
   "cell_type": "code",
   "execution_count": 16,
   "metadata": {},
   "outputs": [],
   "source": [
    "##Your code here\n",
    "x = df.drop('target', axis=1)\n",
    "y = df['target']"
   ]
  },
  {
   "cell_type": "markdown",
   "metadata": {},
   "source": [
    "Q13) [2 points] Run the code below to import the logistic regression and the train_test split functions from sklearn. Split your data into 80% train 20% test."
   ]
  },
  {
   "cell_type": "code",
   "execution_count": 17,
   "metadata": {},
   "outputs": [],
   "source": [
    "from sklearn.linear_model import LogisticRegression\n",
    "from sklearn.model_selection import train_test_split \n",
    "##Your code here\n",
    "\n",
    "x_train, x_test, y_train, y_test = train_test_split(x, y, train_size=0.8)"
   ]
  },
  {
   "cell_type": "markdown",
   "metadata": {},
   "source": [
    "Q14) [5 points] Use sklearn to fit a logistic regression model on your training set. Use all the default parameter. Do not evaluate at this point. (You can find out about sklearn logistic regression here: https://scikit-learn.org/stable/modules/generated/sklearn.linear_model.LogisticRegression.html)"
   ]
  },
  {
   "cell_type": "code",
   "execution_count": 18,
   "metadata": {},
   "outputs": [
    {
     "data": {
      "text/plain": [
       "LogisticRegression(max_iter=2000)"
      ]
     },
     "execution_count": 18,
     "metadata": {},
     "output_type": "execute_result"
    }
   ],
   "source": [
    "##Your code here\n",
    "logit = LogisticRegression(max_iter=2000)\n",
    "logit.fit(x_train, y_train)"
   ]
  },
  {
   "cell_type": "markdown",
   "metadata": {},
   "source": [
    "Q15) [5 points] Use the .predict_proba function of the logistic regression model that you have learned on your X_test. Note that the .predict_proba function returns an array of tuples where each element corresponds to the predicted probability for class 0 and 1 of the data point."
   ]
  },
  {
   "cell_type": "code",
   "execution_count": 19,
   "metadata": {},
   "outputs": [
    {
     "data": {
      "text/plain": [
       "array([[0.99327367, 0.00672633],\n",
       "       [0.44583589, 0.55416411],\n",
       "       [0.01924775, 0.98075225],\n",
       "       [0.13506337, 0.86493663],\n",
       "       [0.63743113, 0.36256887],\n",
       "       [0.03539168, 0.96460832],\n",
       "       [0.03781231, 0.96218769],\n",
       "       [0.01995847, 0.98004153],\n",
       "       [0.76917256, 0.23082744],\n",
       "       [0.04622025, 0.95377975],\n",
       "       [0.99213889, 0.00786111],\n",
       "       [0.2362658 , 0.7637342 ],\n",
       "       [0.03802514, 0.96197486],\n",
       "       [0.40951275, 0.59048725],\n",
       "       [0.95183784, 0.04816216],\n",
       "       [0.54537008, 0.45462992],\n",
       "       [0.99504937, 0.00495063],\n",
       "       [0.03857204, 0.96142796],\n",
       "       [0.83994126, 0.16005874],\n",
       "       [0.31129346, 0.68870654],\n",
       "       [0.31878815, 0.68121185],\n",
       "       [0.02690067, 0.97309933],\n",
       "       [0.91942148, 0.08057852],\n",
       "       [0.19085137, 0.80914863],\n",
       "       [0.41663083, 0.58336917],\n",
       "       [0.56583339, 0.43416661],\n",
       "       [0.29441918, 0.70558082],\n",
       "       [0.01101359, 0.98898641],\n",
       "       [0.72491833, 0.27508167],\n",
       "       [0.35148659, 0.64851341],\n",
       "       [0.33758619, 0.66241381],\n",
       "       [0.99106958, 0.00893042],\n",
       "       [0.33194119, 0.66805881],\n",
       "       [0.99824969, 0.00175031],\n",
       "       [0.86284449, 0.13715551],\n",
       "       [0.99362713, 0.00637287],\n",
       "       [0.91919009, 0.08080991],\n",
       "       [0.11087132, 0.88912868],\n",
       "       [0.53146078, 0.46853922],\n",
       "       [0.96804953, 0.03195047],\n",
       "       [0.0096481 , 0.9903519 ],\n",
       "       [0.14733438, 0.85266562],\n",
       "       [0.98382052, 0.01617948],\n",
       "       [0.08803123, 0.91196877],\n",
       "       [0.50136988, 0.49863012],\n",
       "       [0.00958565, 0.99041435],\n",
       "       [0.23479728, 0.76520272],\n",
       "       [0.01190246, 0.98809754],\n",
       "       [0.96414049, 0.03585951],\n",
       "       [0.37898915, 0.62101085],\n",
       "       [0.2993675 , 0.7006325 ],\n",
       "       [0.02627434, 0.97372566],\n",
       "       [0.39477696, 0.60522304],\n",
       "       [0.29875147, 0.70124853],\n",
       "       [0.18411194, 0.81588806],\n",
       "       [0.73077794, 0.26922206],\n",
       "       [0.86583713, 0.13416287],\n",
       "       [0.18633375, 0.81366625],\n",
       "       [0.168092  , 0.831908  ],\n",
       "       [0.46907016, 0.53092984],\n",
       "       [0.99083795, 0.00916205]])"
      ]
     },
     "execution_count": 19,
     "metadata": {},
     "output_type": "execute_result"
    }
   ],
   "source": [
    "##Your code here\n",
    "proba = logit.predict_proba(x_test)\n",
    "proba"
   ]
  },
  {
   "cell_type": "markdown",
   "metadata": {},
   "source": [
    "Q16) [2 points] Filter the predicted probabilties from the last question to an array containing only the probabilites for class 1. I.e., you should no longer have tuples."
   ]
  },
  {
   "cell_type": "code",
   "execution_count": 20,
   "metadata": {},
   "outputs": [
    {
     "data": {
      "text/plain": [
       "array([0.00672633, 0.55416411, 0.98075225, 0.86493663, 0.36256887,\n",
       "       0.96460832, 0.96218769, 0.98004153, 0.23082744, 0.95377975,\n",
       "       0.00786111, 0.7637342 , 0.96197486, 0.59048725, 0.04816216,\n",
       "       0.45462992, 0.00495063, 0.96142796, 0.16005874, 0.68870654,\n",
       "       0.68121185, 0.97309933, 0.08057852, 0.80914863, 0.58336917,\n",
       "       0.43416661, 0.70558082, 0.98898641, 0.27508167, 0.64851341,\n",
       "       0.66241381, 0.00893042, 0.66805881, 0.00175031, 0.13715551,\n",
       "       0.00637287, 0.08080991, 0.88912868, 0.46853922, 0.03195047,\n",
       "       0.9903519 , 0.85266562, 0.01617948, 0.91196877, 0.49863012,\n",
       "       0.99041435, 0.76520272, 0.98809754, 0.03585951, 0.62101085,\n",
       "       0.7006325 , 0.97372566, 0.60522304, 0.70124853, 0.81588806,\n",
       "       0.26922206, 0.13416287, 0.81366625, 0.831908  , 0.53092984,\n",
       "       0.00916205])"
      ]
     },
     "execution_count": 20,
     "metadata": {},
     "output_type": "execute_result"
    }
   ],
   "source": [
    "##Your code here\n",
    "positive_y_proba = proba[:, 1]\n",
    "positive_y_proba"
   ]
  },
  {
   "cell_type": "markdown",
   "metadata": {},
   "source": [
    "Q17) [8 points] Use the roc_curve function from sklearn (https://scikit-learn.org/stable/modules/generated/sklearn.metrics.roc_curve.html) to plot the ROC curve for your predictions using the predicted probabilities for class 1 and your y_test (use the default parameters). Also, print out the thresholds generated by the roc_curve function."
   ]
  },
  {
   "cell_type": "code",
   "execution_count": 21,
   "metadata": {},
   "outputs": [
    {
     "name": "stdout",
     "output_type": "stream",
     "text": [
      "Thresholds: [1.99041435e+00 9.90414355e-01 8.31908003e-01 8.15888057e-01\n",
      " 8.13666253e-01 8.09148631e-01 6.81211853e-01 6.21010852e-01\n",
      " 5.30929843e-01 4.54629922e-01 4.34166611e-01 2.75081675e-01\n",
      " 2.69222059e-01 1.60058737e-01 1.37155510e-01 1.75031496e-03]\n"
     ]
    },
    {
     "data": {
      "image/png": "[encoded data removed]",
      "text/plain": [
       "<Figure size 432x288 with 1 Axes>"
      ]
     },
     "metadata": {
      "needs_background": "light"
     },
     "output_type": "display_data"
    }
   ],
   "source": [
    "##Your code here\n",
    "from sklearn.metrics import roc_curve\n",
    "\n",
    "fpr, tpr, thresholds = roc_curve(y_test, positive_y_proba)\n",
    "\n",
    "plt.plot(fpr, tpr)\n",
    "plt.ylabel(\"True Positive Rate\")\n",
    "plt.ylabel(\"False Positive Rate\")\n",
    "\n",
    "print(f'Thresholds: {thresholds}')"
   ]
  },
  {
   "cell_type": "markdown",
   "metadata": {},
   "source": [
    "Q18) [2 points] Use the roc_auc_score function from sklearn (https://scikit-learn.org/stable/modules/generated/sklearn.metrics.roc_auc_score.html#sklearn.metrics.roc_auc_score) to report the AUC score using the exact same setup as the last question."
   ]
  },
  {
   "cell_type": "code",
   "execution_count": 22,
   "metadata": {},
   "outputs": [
    {
     "data": {
      "text/plain": [
       "0.9150326797385621"
      ]
     },
     "execution_count": 22,
     "metadata": {},
     "output_type": "execute_result"
    }
   ],
   "source": [
    "##Your code here\n",
    "from sklearn.metrics import roc_auc_score\n",
    "\n",
    "roc_auc_score(y_test, positive_y_proba)"
   ]
  }
 ],
 "metadata": {
  "kernelspec": {
   "display_name": "Python 3 (ipykernel)",
   "language": "python",
   "name": "python3"
  },
  "language_info": {
   "codemirror_mode": {
    "name": "ipython",
    "version": 3
   },
   "file_extension": ".py",
   "mimetype": "text/x-python",
   "name": "python",
   "nbconvert_exporter": "python",
   "pygments_lexer": "ipython3",
   "version": "3.9.7"
  }
 },
 "nbformat": 4,
 "nbformat_minor": 2
}
