{
  "cells": [
    {
      "cell_type": "code",
      "source": [
        "class SearchNode:\n",
        "    def __init__(self, state, parent=None):\n",
        "        self.state = state\n",
        "        self.parent = parent\n",
        "    "
      ],
      "metadata": {
        "id": "mxaq7jwAWQ_N"
      },
      "execution_count": 1,
      "outputs": []
    },
    {
      "cell_type": "code",
      "source": [
        "class problem:\n",
        "  def __init__(self,start_state,goal_state):\n",
        "\n",
        "    self.start_state = start_state\n",
        "    self.goal_state = goal_state\n",
        "\n",
        "\n",
        "  def is_goal(self,state):\n",
        "    if state==self.goal_state:\n",
        "      return True\n",
        "    else:\n",
        "      return False\n",
        "\n",
        "  def get_successors(self,parent_state):\n",
        "      successors = []\n",
        "      A = parent_state[0]\n",
        "      B = parent_state[1]\n",
        "      C = parent_state[2]\n",
        "      if C == 1:\n",
        "         e = -1\n",
        "      else:\n",
        "        e = 1\n",
        "\n",
        "      childstate1 = [A+e,B,C]\n",
        "      childstate2 = [A+e,B+e,C]\n",
        "      childstate3 = [A,B+e,C]\n",
        "      childstate4 = [A+2*e,B,C]\n",
        "      childstate5 = [A,B+2*e,C]\n",
        "      \n",
        "      \n",
        "      if check_validity(childstate1) ==True:\n",
        "        new_node1 = SearchNode(childstate1,parent_state)\n",
        "        successors.append(new_node1)\n",
        "      \n",
        "      if check_validity(childstate2) ==True:\n",
        "        new_node2 = SearchNode(childstate2,parent_state)\n",
        "        successors.append(new_node2)\n",
        "\n",
        "      if check_validity(childstate3) ==True:\n",
        "        new_node3 = SearchNode(childstate3,parent_state)\n",
        "        successors.append(new_node3)\n",
        "\n",
        "      \n",
        "      if check_validity(childstate4) ==True:\n",
        "        new_node4 = SearchNode(childstate4,parent_state)\n",
        "        successors.append(new_node4)\n",
        "\n",
        "      \n",
        "      if check_validity(childstate5) ==True:\n",
        "        new_node5 = SearchNode(childstate5,parent_state)\n",
        "        successors.append(new_node5)\n",
        "\n",
        "      return successors\n",
        "\n",
        "  def check_validity(self,state): \n",
        "      A = state[0]\n",
        "      B = state[1]\n",
        "      C = state[2]\n",
        "      if A < B or 3-A < 3-B:\n",
        "        return False\n",
        "      else:\n",
        "        return True\n",
        "\n",
        " "
      ],
      "metadata": {
        "id": "t9f1_eoPbGis"
      },
      "execution_count": 2,
      "outputs": []
    },
    {
      "cell_type": "code",
      "source": [
        "def bfs(problem):\n",
        "  froniter = []\n",
        "  firstnode = SearchNode(problem.start_state)\n",
        "  froniter.append(firstnode)\n",
        "\n",
        "  explore = []\n",
        "\n",
        "  while (len(froniter)>0):\n",
        "    current_node = froniter[0]\n",
        "    current_state = current_node.SearchNode(froniter(0))\n",
        "    if problem.is_goal(current_state):\n",
        "      pass\n",
        "\n",
        "    explore.append(froniter.pop(0))\n",
        "    for childnode in problem.get_successors(current_state):\n",
        "      if childnode not in explore:\n",
        "        explore.append[childnode]\n",
        "        childnode.parent=current_node\n",
        "        froniter.append(childnode)\n",
        "\n",
        "\n"
      ],
      "metadata": {
        "id": "tUPg-HBmf05R"
      },
      "execution_count": 1,
      "outputs": []
    }
  ],
  "metadata": {
    "colab": {
      "collapsed_sections": [],
      "name": "Welcome To Colaboratory",
      "toc_visible": true,
      "provenance": []
    },
    "kernelspec": {
      "display_name": "Python 3",
      "name": "python3"
    }
  },
  "nbformat": 4,
  "nbformat_minor": 0
}