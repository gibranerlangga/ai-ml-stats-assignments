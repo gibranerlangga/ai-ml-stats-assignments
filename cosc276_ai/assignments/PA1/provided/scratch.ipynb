{
 "cells": [
  {
   "cell_type": "markdown",
   "id": "9a869455",
   "metadata": {},
   "source": [
    "# COSC276 Fall 2022 - PA1 - Gibran Erlangga"
   ]
  },
  {
   "cell_type": "markdown",
   "id": "dba4e0a6",
   "metadata": {},
   "source": [
    "1. Implement the model: states and actions"
   ]
  },
  {
   "cell_type": "code",
   "execution_count": 7,
   "id": "fd13141c",
   "metadata": {},
   "outputs": [],
   "source": [
    "# (# chickens, # foxes, boat position)\n",
    "\n",
    "class FoxProblem:\n",
    "    def __init__(self, start_state=(3, 3, 1)):\n",
    "        self.start_state = start_state\n",
    "        self.goal_state = (0, 0, 0)\n",
    "        self.total_chickens = start_state[0]\n",
    "        self.total_foxes = start_state[1]\n",
    "        \n",
    "    def state_checker(self, state):\n",
    "        if (state[0] == 0) or (state[0] >= state[1]):\n",
    "            return state\n",
    "        \n",
    "    # get successor states for the given state\n",
    "    def get_successors(self, state):\n",
    "        c_state_list = list(state)\n",
    "        new_states = []\n",
    "\n",
    "        if c_state_list[2] == 1:\n",
    "            possible_actions = [[-1, -1, -1], [-1, 0, -1], [0, -1, -1], [-2, 0, -1], [0, -2, -1]]\n",
    "        else:\n",
    "            possible_actions = [[-1, -1, 1], [-1, 0, 1], [0, -1, 1], [-2, 0, 1], [0, -2, 1]]\n",
    "\n",
    "        for i in possible_actions:\n",
    "            new_state = [c_state_list[0]+i[0], c_state_list[1]+i[1], c_state_list[2]+i[2]]\n",
    "            new_state = self.state_checker(new_state)\n",
    "            if new_state:\n",
    "                new_states.append(new_state)\n",
    "        return new_states\n",
    "        \n",
    "    def goal_test(self, state):\n",
    "        return state == self.goal_state\n",
    "\n",
    "    def __str__(self):\n",
    "        string =  \"Chickens and foxes problem: \" + str(self.start_state)\n",
    "        return string"
   ]
  },
  {
   "cell_type": "code",
   "execution_count": 23,
   "id": "4183986b",
   "metadata": {},
   "outputs": [
    {
     "data": {
      "text/plain": [
       "deque([(2, 2, 0)])"
      ]
     },
     "execution_count": 23,
     "metadata": {},
     "output_type": "execute_result"
    }
   ],
   "source": [
    "from collections import deque\n",
    "\n",
    "frontier = deque()\n",
    "frontier.append((3,3,1))\n",
    "frontier.append((2,2,0))\n",
    "\n",
    "frontier.popleft()\n",
    "# frontier.pop()\n",
    "\n",
    "frontier"
   ]
  },
  {
   "cell_type": "code",
   "execution_count": 8,
   "id": "136df2e0",
   "metadata": {},
   "outputs": [],
   "source": [
    "fp = FoxProblem((5,5,1))"
   ]
  },
  {
   "cell_type": "code",
   "execution_count": 9,
   "id": "a64a4962",
   "metadata": {},
   "outputs": [
    {
     "name": "stdout",
     "output_type": "stream",
     "text": [
      "child from node 0 [[2, 2, 0], [3, 2, 0], [3, 1, 0]]\n",
      "[2, 2, 0]\n",
      "[[1, 1, 1], [2, 1, 1], [0, 2, 1], [2, 0, 1]]\n",
      "[1, 1, 1] False\n",
      "[2, 1, 1] False\n",
      "[0, 2, 1] False\n",
      "[2, 0, 1] False\n",
      "[3, 2, 0]\n",
      "[[2, 1, 1], [2, 2, 1], [3, 1, 1], [3, 0, 1]]\n",
      "[2, 1, 1] False\n",
      "[2, 2, 1] False\n",
      "[3, 1, 1] False\n",
      "[3, 0, 1] False\n",
      "[3, 1, 0]\n",
      "[[2, 0, 1], [2, 1, 1], [3, 0, 1], [1, 1, 1], [3, -1, 1]]\n",
      "[2, 0, 1] False\n",
      "[2, 1, 1] False\n",
      "[3, 0, 1] False\n",
      "[1, 1, 1] False\n",
      "[3, -1, 1] False\n"
     ]
    }
   ],
   "source": [
    "child_node_0 = fp.get_successors((3,3,1))\n",
    "print(\"child from node 0\", child_node_0)\n",
    "\n",
    "for i in child_node_0:\n",
    "    print(i)\n",
    "    temp_successors = fp.get_successors(tuple(i))\n",
    "    print(temp_successors)\n",
    "    for j in temp_successors:\n",
    "        print(j, fp.goal_test(j))"
   ]
  },
  {
   "cell_type": "code",
   "execution_count": 5,
   "id": "301d8614",
   "metadata": {},
   "outputs": [],
   "source": [
    "from FoxProblem import FoxProblem\n",
    "# from uninformed_search import bfs_search, dfs_search, ids_search\n",
    "\n",
    "# Create a few test problems:\n",
    "problem331 = FoxProblem((3, 3, 1))\n",
    "problem541 = FoxProblem((5, 4, 1))\n",
    "problem551 = FoxProblem((5, 5, 1))"
   ]
  },
  {
   "cell_type": "code",
   "execution_count": 68,
   "id": "a9eb781f",
   "metadata": {},
   "outputs": [],
   "source": [
    "# (# chickens, # foxes, boat position)\n",
    "test = (3,3,1)\n",
    "test_list = list(test)\n",
    "new_states = []\n",
    "\n",
    "if test_list[2] == 1:\n",
    "    possible_actions = [[-1, -1, -1], [-1, 0, -1], [0, -1, -1], [-2, 0, -1], [0, -2, -1]]\n",
    "else:\n",
    "    possible_actions = [[-1, -1, 1], [-1, 0, 1], [0, -1, 1], [-2, 0, 1], [0, -2, 1]]\n",
    "    \n",
    "for i in possible_actions:\n",
    "    new_state = [test_list[0]+i[0], test_list[1]+i[1], test_list[2]+i[2]]\n",
    "    new_states.append(tuple(new_state))"
   ]
  },
  {
   "cell_type": "code",
   "execution_count": 69,
   "id": "29894d8e",
   "metadata": {
    "scrolled": true
   },
   "outputs": [
    {
     "data": {
      "text/plain": [
       "[(2, 2, 0), (2, 3, 0), (3, 2, 0), (1, 3, 0), (3, 1, 0)]"
      ]
     },
     "execution_count": 69,
     "metadata": {},
     "output_type": "execute_result"
    }
   ],
   "source": [
    "new_states"
   ]
  },
  {
   "cell_type": "code",
   "execution_count": 70,
   "id": "fa9c8cea",
   "metadata": {},
   "outputs": [],
   "source": [
    "def state_checker(new_states):\n",
    "    filtered_states = []\n",
    "    for i in new_states:\n",
    "        i = list(i)\n",
    "        if (i[0] == 0) or (i[0] >= i[1]):\n",
    "            filtered_states.append(i)\n",
    "    return filtered_states"
   ]
  },
  {
   "cell_type": "code",
   "execution_count": 71,
   "id": "03c605aa",
   "metadata": {},
   "outputs": [
    {
     "data": {
      "text/plain": [
       "[[2, 2, 0], [3, 2, 0], [3, 1, 0]]"
      ]
     },
     "execution_count": 71,
     "metadata": {},
     "output_type": "execute_result"
    }
   ],
   "source": [
    "state_checker(new_states)"
   ]
  },
  {
   "cell_type": "code",
   "execution_count": 29,
   "id": "5a004fd5",
   "metadata": {},
   "outputs": [],
   "source": [
    "actionSpace = set([])\n",
    "for i in range(-2, 3): # can gain or lose a chicken\n",
    "    for j in range(-2, 3): # can gain or lose a fox\n",
    "        for k in [1, 0]: # can gain or lose a boat\n",
    "            action = (i, j ,k) # action is a tuple of how many chickens, foxes, and boats are changed\n",
    "            actionSpace.add(action)"
   ]
  },
  {
   "cell_type": "code",
   "execution_count": 31,
   "id": "f95ce463",
   "metadata": {},
   "outputs": [],
   "source": [
    "test = (1,2,3)\n",
    "\n",
    "a, b, c = test"
   ]
  },
  {
   "cell_type": "code",
   "execution_count": 33,
   "id": "c12fb9e2",
   "metadata": {},
   "outputs": [
    {
     "data": {
      "text/plain": [
       "2"
      ]
     },
     "execution_count": 33,
     "metadata": {},
     "output_type": "execute_result"
    }
   ],
   "source": [
    "b"
   ]
  },
  {
   "cell_type": "code",
   "execution_count": 30,
   "id": "daadf057",
   "metadata": {},
   "outputs": [
    {
     "data": {
      "text/plain": [
       "{(-2, -2, 0),\n",
       " (-2, -2, 1),\n",
       " (-2, -1, 0),\n",
       " (-2, -1, 1),\n",
       " (-2, 0, 0),\n",
       " (-2, 0, 1),\n",
       " (-2, 1, 0),\n",
       " (-2, 1, 1),\n",
       " (-2, 2, 0),\n",
       " (-2, 2, 1),\n",
       " (-1, -2, 0),\n",
       " (-1, -2, 1),\n",
       " (-1, -1, 0),\n",
       " (-1, -1, 1),\n",
       " (-1, 0, 0),\n",
       " (-1, 0, 1),\n",
       " (-1, 1, 0),\n",
       " (-1, 1, 1),\n",
       " (-1, 2, 0),\n",
       " (-1, 2, 1),\n",
       " (0, -2, 0),\n",
       " (0, -2, 1),\n",
       " (0, -1, 0),\n",
       " (0, -1, 1),\n",
       " (0, 0, 0),\n",
       " (0, 0, 1),\n",
       " (0, 1, 0),\n",
       " (0, 1, 1),\n",
       " (0, 2, 0),\n",
       " (0, 2, 1),\n",
       " (1, -2, 0),\n",
       " (1, -2, 1),\n",
       " (1, -1, 0),\n",
       " (1, -1, 1),\n",
       " (1, 0, 0),\n",
       " (1, 0, 1),\n",
       " (1, 1, 0),\n",
       " (1, 1, 1),\n",
       " (1, 2, 0),\n",
       " (1, 2, 1),\n",
       " (2, -2, 0),\n",
       " (2, -2, 1),\n",
       " (2, -1, 0),\n",
       " (2, -1, 1),\n",
       " (2, 0, 0),\n",
       " (2, 0, 1),\n",
       " (2, 1, 0),\n",
       " (2, 1, 1),\n",
       " (2, 2, 0),\n",
       " (2, 2, 1)}"
      ]
     },
     "execution_count": 30,
     "metadata": {},
     "output_type": "execute_result"
    }
   ],
   "source": [
    "actionSpace"
   ]
  },
  {
   "cell_type": "code",
   "execution_count": 16,
   "id": "1102cb98",
   "metadata": {},
   "outputs": [],
   "source": [
    "test_list[0] = 1"
   ]
  },
  {
   "cell_type": "code",
   "execution_count": 17,
   "id": "8afb8091",
   "metadata": {},
   "outputs": [
    {
     "data": {
      "text/plain": [
       "[1, 3, 1]"
      ]
     },
     "execution_count": 17,
     "metadata": {},
     "output_type": "execute_result"
    }
   ],
   "source": [
    "test_list"
   ]
  },
  {
   "cell_type": "code",
   "execution_count": 18,
   "id": "b0520ac4",
   "metadata": {},
   "outputs": [
    {
     "data": {
      "text/plain": [
       "(1, 3, 1)"
      ]
     },
     "execution_count": 18,
     "metadata": {},
     "output_type": "execute_result"
    }
   ],
   "source": [
    "tuple(test_list)"
   ]
  },
  {
   "cell_type": "code",
   "execution_count": null,
   "id": "5b91306d",
   "metadata": {},
   "outputs": [],
   "source": []
  },
  {
   "cell_type": "code",
   "execution_count": 19,
   "id": "186aec49",
   "metadata": {},
   "outputs": [
    {
     "data": {
      "text/plain": [
       "[(1, 1, 1), (2, 2, 2), (3, 3, 3)]"
      ]
     },
     "execution_count": 19,
     "metadata": {},
     "output_type": "execute_result"
    }
   ],
   "source": [
    "[(1,1,1), (2,2,2), (3,3,3)]"
   ]
  },
  {
   "cell_type": "code",
   "execution_count": null,
   "id": "ec017f8e",
   "metadata": {},
   "outputs": [],
   "source": []
  },
  {
   "cell_type": "markdown",
   "id": "4b5b5a5e",
   "metadata": {},
   "source": [
    "2. Implement breadth-first search"
   ]
  },
  {
   "cell_type": "code",
   "execution_count": null,
   "id": "de37df3a",
   "metadata": {},
   "outputs": [],
   "source": []
  },
  {
   "cell_type": "code",
   "execution_count": null,
   "id": "54967ac2",
   "metadata": {},
   "outputs": [],
   "source": []
  },
  {
   "cell_type": "markdown",
   "id": "658d6763",
   "metadata": {},
   "source": [
    "3. Implement path-checking depth-first search"
   ]
  },
  {
   "cell_type": "code",
   "execution_count": null,
   "id": "aac3f3e5",
   "metadata": {},
   "outputs": [],
   "source": [
    "a"
   ]
  },
  {
   "cell_type": "markdown",
   "id": "b25c5c1c",
   "metadata": {},
   "source": [
    "4. Implement iterative deepening search"
   ]
  },
  {
   "cell_type": "code",
   "execution_count": null,
   "id": "1ac98969",
   "metadata": {},
   "outputs": [],
   "source": []
  }
 ],
 "metadata": {
  "kernelspec": {
   "display_name": "Python 3.8.9 64-bit",
   "language": "python",
   "name": "python3"
  },
  "language_info": {
   "codemirror_mode": {
    "name": "ipython",
    "version": 3
   },
   "file_extension": ".py",
   "mimetype": "text/x-python",
   "name": "python",
   "nbconvert_exporter": "python",
   "pygments_lexer": "ipython3",
   "version": "3.8.9"
  },
  "vscode": {
   "interpreter": {
    "hash": "31f2aee4e71d21fbe5cf8b01ff0e069b9275f58929596ceb00d14d90e3e16cd6"
   }
  }
 },
 "nbformat": 4,
 "nbformat_minor": 5
}
