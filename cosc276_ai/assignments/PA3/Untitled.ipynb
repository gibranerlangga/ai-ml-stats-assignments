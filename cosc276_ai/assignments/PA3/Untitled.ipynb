{
 "cells": [
  {
   "cell_type": "code",
   "execution_count": 7,
   "id": "2cbf2486",
   "metadata": {},
   "outputs": [],
   "source": [
    "import chess\n",
    "from math import inf"
   ]
  },
  {
   "cell_type": "code",
   "execution_count": 2,
   "id": "ead99364",
   "metadata": {},
   "outputs": [],
   "source": [
    "chess_piece_points = {\n",
    "    'PAWN': 1,\n",
    "    'KNIGHT': 3,\n",
    "    'BISHOP': 3,\n",
    "    'ROOK': 5,\n",
    "    'QUEEN': 9,\n",
    "    'KING': 100\n",
    "}"
   ]
  },
  {
   "cell_type": "code",
   "execution_count": 4,
   "id": "6969952c",
   "metadata": {},
   "outputs": [
    {
     "name": "stdout",
     "output_type": "stream",
     "text": [
      "PAWN\n",
      "KNIGHT\n",
      "BISHOP\n",
      "ROOK\n",
      "QUEEN\n",
      "KING\n"
     ]
    }
   ],
   "source": [
    "for i in chess_piece_points.keys():\n",
    "    print(i)"
   ]
  },
  {
   "cell_type": "code",
   "execution_count": 10,
   "id": "871254db",
   "metadata": {},
   "outputs": [
    {
     "data": {
      "text/plain": [
       "-inf"
      ]
     },
     "execution_count": 10,
     "metadata": {},
     "output_type": "execute_result"
    }
   ],
   "source": [
    "inf * -1"
   ]
  },
  {
   "cell_type": "code",
   "execution_count": 11,
   "id": "081404fb",
   "metadata": {},
   "outputs": [
    {
     "data": {
      "text/plain": [
       "-inf"
      ]
     },
     "execution_count": 11,
     "metadata": {},
     "output_type": "execute_result"
    }
   ],
   "source": [
    "-inf"
   ]
  },
  {
   "cell_type": "code",
   "execution_count": 14,
   "id": "e0b4e47d",
   "metadata": {},
   "outputs": [],
   "source": [
    "abc = set([1,1,1,4,4,5])"
   ]
  },
  {
   "cell_type": "code",
   "execution_count": 15,
   "id": "b2816ea1",
   "metadata": {},
   "outputs": [
    {
     "data": {
      "text/plain": [
       "{1, 4, 5}"
      ]
     },
     "execution_count": 15,
     "metadata": {},
     "output_type": "execute_result"
    }
   ],
   "source": [
    "abc"
   ]
  },
  {
   "cell_type": "code",
   "execution_count": null,
   "id": "7ccd36f0",
   "metadata": {},
   "outputs": [],
   "source": []
  }
 ],
 "metadata": {
  "kernelspec": {
   "display_name": "Python 3 (ipykernel)",
   "language": "python",
   "name": "python3"
  },
  "language_info": {
   "codemirror_mode": {
    "name": "ipython",
    "version": 3
   },
   "file_extension": ".py",
   "mimetype": "text/x-python",
   "name": "python",
   "nbconvert_exporter": "python",
   "pygments_lexer": "ipython3",
   "version": "3.9.13"
  }
 },
 "nbformat": 4,
 "nbformat_minor": 5
}
