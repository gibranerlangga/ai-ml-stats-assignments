{
 "cells": [
  {
   "cell_type": "code",
   "execution_count": 28,
   "id": "b3a9b5af",
   "metadata": {},
   "outputs": [],
   "source": [
    "from heapq import heappush, heappop"
   ]
  },
  {
   "cell_type": "code",
   "execution_count": 29,
   "id": "3b2746b8",
   "metadata": {},
   "outputs": [],
   "source": [
    "test_list = []"
   ]
  },
  {
   "cell_type": "code",
   "execution_count": 30,
   "id": "b21d6d7a",
   "metadata": {},
   "outputs": [],
   "source": [
    "heappush(test_list, 3)\n",
    "heappush(test_list, 4)\n",
    "heappush(test_list, 2)\n",
    "heappush(test_list, 5)\n",
    "heappush(test_list, 6)"
   ]
  },
  {
   "cell_type": "code",
   "execution_count": 31,
   "id": "615db817",
   "metadata": {},
   "outputs": [
    {
     "data": {
      "text/plain": [
       "[2, 4, 3, 5, 6]"
      ]
     },
     "execution_count": 31,
     "metadata": {},
     "output_type": "execute_result"
    }
   ],
   "source": [
    "test_list"
   ]
  },
  {
   "cell_type": "code",
   "execution_count": 35,
   "id": "5c3cf0db",
   "metadata": {},
   "outputs": [
    {
     "data": {
      "text/plain": [
       "5"
      ]
     },
     "execution_count": 35,
     "metadata": {},
     "output_type": "execute_result"
    }
   ],
   "source": [
    "heappop(test_list)"
   ]
  },
  {
   "cell_type": "code",
   "execution_count": 36,
   "id": "323f6359",
   "metadata": {},
   "outputs": [
    {
     "data": {
      "text/plain": [
       "[6]"
      ]
     },
     "execution_count": 36,
     "metadata": {},
     "output_type": "execute_result"
    }
   ],
   "source": [
    "test_list"
   ]
  }
 ],
 "metadata": {
  "kernelspec": {
   "display_name": "Python 3 (ipykernel)",
   "language": "python",
   "name": "python3"
  },
  "language_info": {
   "codemirror_mode": {
    "name": "ipython",
    "version": 3
   },
   "file_extension": ".py",
   "mimetype": "text/x-python",
   "name": "python",
   "nbconvert_exporter": "python",
   "pygments_lexer": "ipython3",
   "version": "3.9.13"
  }
 },
 "nbformat": 4,
 "nbformat_minor": 5
}
